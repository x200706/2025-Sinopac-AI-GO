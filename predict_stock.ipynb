{
 "cells": [
  {
   "cell_type": "code",
   "execution_count": 2,
   "metadata": {
    "_cell_guid": "79ba8737-9354-4526-8388-c9a3167fb858",
    "_uuid": "68ce0588-31f4-42ac-bd8a-fbebcee925d7",
    "collapsed": false,
    "execution": {
     "iopub.execute_input": "2025-04-01T15:06:00.241666Z",
     "iopub.status.busy": "2025-04-01T15:06:00.241372Z",
     "iopub.status.idle": "2025-04-01T15:06:01.422707Z",
     "shell.execute_reply": "2025-04-01T15:06:01.421460Z",
     "shell.execute_reply.started": "2025-04-01T15:06:00.241647Z"
    },
    "jupyter": {
     "outputs_hidden": false
    },
    "trusted": true
   },
   "outputs": [],
   "source": [
    "# 導入庫\n",
    "import pandas as pd\n",
    "import numpy as np\n",
    "import dask.dataframe as dd\n",
    "import dask\n",
    "from dask_ml.model_selection import train_test_split as dask_train_test_split\n",
    "import joblib\n",
    "import gc\n",
    "import os\n",
    "import lightgbm as lgb\n",
    "from sklearn.metrics import f1_score, classification_report\n",
    "from skopt import BayesSearchCV\n",
    "from skopt.space import Real, Integer\n",
    "from sklearn.metrics import make_scorer, f1_score\n",
    "import matplotlib.pyplot as plt"
   ]
  },
  {
   "cell_type": "code",
   "execution_count": 3,
   "metadata": {
    "_cell_guid": "f26ec7cd-f75f-4575-a538-d891726de703",
    "_uuid": "f6278279-18ee-4588-9ae0-8b76b51e5995",
    "collapsed": false,
    "execution": {
     "iopub.execute_input": "2025-04-01T12:10:04.828397Z",
     "iopub.status.busy": "2025-04-01T12:10:04.827923Z",
     "iopub.status.idle": "2025-04-01T12:10:04.833799Z",
     "shell.execute_reply": "2025-04-01T12:10:04.832141Z",
     "shell.execute_reply.started": "2025-04-01T12:10:04.828361Z"
    },
    "jupyter": {
     "outputs_hidden": false
    },
    "trusted": true
   },
   "outputs": [],
   "source": [
    "# 參數設置\n",
    "IS_RESAMPLE = True\n",
    "TARGET_RATIO = 60\n",
    "\n",
    "INIT_MODEL = False"
   ]
  },
  {
   "cell_type": "code",
   "execution_count": 3,
   "metadata": {
    "_cell_guid": "49a429dc-e7b4-4025-b38a-54a48b562ee1",
    "_uuid": "657197c7-0abe-43d6-92c4-414e5b8a8450",
    "collapsed": false,
    "execution": {
     "iopub.execute_input": "2025-04-01T12:10:01.500137Z",
     "iopub.status.busy": "2025-04-01T12:10:01.499778Z",
     "iopub.status.idle": "2025-04-01T12:10:01.506737Z",
     "shell.execute_reply": "2025-04-01T12:10:01.505486Z",
     "shell.execute_reply.started": "2025-04-01T12:10:01.500108Z"
    },
    "jupyter": {
     "outputs_hidden": false
    },
    "trusted": true
   },
   "outputs": [],
   "source": [
    "from imblearn.over_sampling import RandomOverSampler\n",
    "from imblearn.under_sampling import RandomUnderSampler\n",
    "from imblearn.pipeline import Pipeline\n",
    "\n",
    "def dynamic_resample_dask(X_ddf, y_ddf, under_strategy=0.016, over_strategy=0.1):\n",
    "    if not isinstance(X_ddf, dd.DataFrame) or not isinstance(y_ddf, dd.Series):\n",
    "        raise ValueError(\"X_ddf and y_ddf must be Dask DataFrames/Series\")\n",
    "    \n",
    "    # 計算原始數據的類別分佈\n",
    "    X_pd = X_ddf.compute()\n",
    "    y_pd = y_ddf.compute()\n",
    "    \n",
    "    # 設置採樣策略\n",
    "    # over = RandomOverSampler(sampling_strategy=over_strategy, random_state=42)\n",
    "    under = RandomUnderSampler(sampling_strategy=1/under_strategy, random_state=42)\n",
    "    \n",
    "    # 構建管道\n",
    "    # steps = [('o', over), ('u', under)]\n",
    "    steps = [('u', under)]\n",
    "    pipeline = Pipeline(steps=steps)\n",
    "    \n",
    "    # 執行重採樣\n",
    "    X_resampled, y_resampled = pipeline.fit_resample(X_pd, y_pd)\n",
    "    \n",
    "    # 轉回 Dask DataFrame\n",
    "    X_res_ddf = dd.from_pandas(X_resampled, npartitions=X_ddf.npartitions)\n",
    "    y_res_ddf = dd.from_pandas(y_resampled, npartitions=y_ddf.npartitions)\n",
    "    \n",
    "    return X_res_ddf, y_res_ddf\n",
    "# 結果這方法比較快 f1也會多個0.004"
   ]
  },
  {
   "cell_type": "code",
   "execution_count": 4,
   "metadata": {},
   "outputs": [],
   "source": [
    "# 資料載入\n",
    "train_file = './data/training.csv'\n",
    "val_file = './data/public_x.csv'\n",
    "# train_file = './data/mini_train.csv'\n",
    "# val_file = './data/mini_val.csv'"
   ]
  },
  {
   "cell_type": "code",
   "execution_count": 5,
   "metadata": {},
   "outputs": [
    {
     "name": "stdout",
     "output_type": "stream",
     "text": [
      "Loading training data with Dask...\n"
     ]
    },
    {
     "data": {
      "text/plain": [
       "0"
      ]
     },
     "execution_count": 5,
     "metadata": {},
     "output_type": "execute_result"
    }
   ],
   "source": [
    "# 選擇使用 Dask 載入（更推薦，因為效率更高）\n",
    "print(\"Loading training data with Dask...\")\n",
    "ddf = dd.read_csv(train_file, sample=1048576, blocksize='128MB')\n",
    "# 檢查特徵重要性檔案是否存在\n",
    "feature_importance_file = './feature_importance.csv'\n",
    "if INIT_MODEL == False and os.path.exists(feature_importance_file):\n",
    "    print(f\"檢測到 {feature_importance_file}，直接讀取特徵重要性...\")\n",
    "\n",
    "    # 精煉特徵\n",
    "    feature_importance_df = pd.read_csv(feature_importance_file)\n",
    "    important_features = feature_importance_df[feature_importance_df['Importance'] > 0]['Feature'].tolist()\n",
    "    print(f\"保留的特徵數量: {len(important_features)}\")\n",
    "    print(\"保留的特徵:\", important_features)\n",
    "\n",
    "    X_ddf = ddf[important_features]\n",
    "    del feature_importance_df\n",
    "    gc.collect()\n",
    "else:\n",
    "    X_ddf = ddf.drop(columns=['ID', '飆股'])\n",
    "y_ddf = ddf['飆股']\n",
    "X_ddf = X_ddf.fillna(X_ddf.mean()).replace([np.inf, -np.inf], np.nan).fillna(X_ddf.max().max())\n",
    "\n",
    "del ddf\n",
    "gc.collect()"
   ]
  },
  {
   "cell_type": "code",
   "execution_count": 6,
   "metadata": {
    "_cell_guid": "023f8d3a-c601-428e-a46c-51355d8ea4fe",
    "_uuid": "8d8dd251-df12-4765-b02e-b7963b2335b5",
    "collapsed": false,
    "execution": {
     "iopub.execute_input": "2025-04-01T12:10:06.642777Z",
     "iopub.status.busy": "2025-04-01T12:10:06.642412Z",
     "iopub.status.idle": "2025-04-01T12:11:11.920149Z",
     "shell.execute_reply": "2025-04-01T12:11:11.918700Z",
     "shell.execute_reply.started": "2025-04-01T12:10:06.642746Z"
    },
    "jupyter": {
     "outputs_hidden": false
    },
    "trusted": true
   },
   "outputs": [
    {
     "data": {
      "text/plain": [
       "0"
      ]
     },
     "execution_count": 6,
     "metadata": {},
     "output_type": "execute_result"
    }
   ],
   "source": [
    "# 先分割訓練集和測試集\n",
    "X_train_ddf, X_test_ddf, y_train_ddf, y_test_ddf = dask_train_test_split(\n",
    "    X_ddf, y_ddf, test_size=0.1, random_state=42, shuffle=True\n",
    ")\n",
    "\n",
    "del X_ddf, y_ddf\n",
    "gc.collect()"
   ]
  },
  {
   "cell_type": "code",
   "execution_count": 7,
   "metadata": {},
   "outputs": [
    {
     "name": "stdout",
     "output_type": "stream",
     "text": [
      "對訓練集進行欠採樣...\n"
     ]
    }
   ],
   "source": [
    "# 只對訓練集進行欠採樣\n",
    "if IS_RESAMPLE == True:\n",
    "    print(\"對訓練集進行欠採樣...\")\n",
    "    X_train_ddf, y_train_ddf = dynamic_resample_dask(X_train_ddf, y_train_ddf, TARGET_RATIO)\n",
    "    # print(\"採樣後訓練集分佈:\", y_train_ddf.value_counts().compute())"
   ]
  },
  {
   "cell_type": "code",
   "execution_count": null,
   "metadata": {},
   "outputs": [
    {
     "name": "stdout",
     "output_type": "stream",
     "text": [
      "匯出CSV以清空計算圖\n",
      "所有資料已匯出到 CSV！\n"
     ]
    }
   ],
   "source": [
    "import shutil  \n",
    "\n",
    "# 先清空之前的檔案\n",
    "#TODO 應該先檢查有無檔案\n",
    "shutil.rmtree('./X_test_ddf.csv')  \n",
    "shutil.rmtree('./y_train_ddf.csv')  \n",
    "shutil.rmtree('./X_train_ddf.csv')  \n",
    "shutil.rmtree('./y_test_ddf.csv')  \n",
    "\n",
    "# 匯出到CSV\n",
    "print(\"匯出CSV以清空計算圖\")\n",
    "X_test_ddf.to_csv('./X_test_ddf.csv', index=False)\n",
    "y_train_ddf.to_csv('./y_train_ddf.csv', index=False)\n",
    "X_train_ddf.to_csv('./X_train_ddf.csv', index=False)\n",
    "y_test_ddf.to_csv('./y_test_ddf.csv', index=False)\n",
    "print(\"所有資料已匯出到 CSV！\")"
   ]
  },
  {
   "cell_type": "code",
   "execution_count": 201,
   "metadata": {},
   "outputs": [
    {
     "name": "stdout",
     "output_type": "stream",
     "text": [
      "正負樣本權重: 60.00\n"
     ]
    }
   ],
   "source": [
    "# 計算正負樣本權重\n",
    "# neg_count = y_train_ddf[y_train_ddf == 0].shape[0].compute()\n",
    "# pos_count = y_train_ddf[y_train_ddf == 1].shape[0].compute()\n",
    "# scale_pos_weight = neg_count / pos_count if pos_count > 0 else 1\n",
    "# del neg_count, pos_count, \n",
    "# gc.collect()\n",
    "scale_pos_weight = TARGET_RATIO\n",
    "print(f\"正負樣本權重: {scale_pos_weight:.2f}\")"
   ]
  },
  {
   "cell_type": "code",
   "execution_count": 202,
   "metadata": {},
   "outputs": [
    {
     "name": "stdout",
     "output_type": "stream",
     "text": [
      "轉換訓練集格式為熊貓DF...\n",
      "處理批次 1\n",
      "處理批次 2\n",
      "處理批次 3\n",
      "處理批次 4\n",
      "處理批次 5\n",
      "處理批次 6\n",
      "處理批次 7\n",
      "處理批次 8\n",
      "處理批次 9\n",
      "處理批次 10\n"
     ]
    }
   ],
   "source": [
    "#TODO 採樣完 從這邊開始就好了\n",
    "# 讀取 CSV\n",
    "print(\"轉換訓練集格式為熊貓DF...\")\n",
    "X_train_ddf = dd.read_csv('./X_train_ddf.csv/*', sample=1048576, blocksize='128MB')\n",
    "y_train_ddf = dd.read_csv('./y_train_ddf.csv/*', sample=1048576, blocksize='128MB')\n",
    "\n",
    "# 初始化空的 DataFrame\n",
    "X_train = pd.DataFrame()\n",
    "y_train = pd.DataFrame()\n",
    "\n",
    "# 分批合併\n",
    "batch_size = 10  # 每次處理 10 個分割\n",
    "for i in range(0, X_train_ddf.npartitions, batch_size):\n",
    "    print(f\"處理批次 {i//batch_size + 1}\")\n",
    "    # 一次計算多個分割\n",
    "    X_batch = X_train_ddf.partitions[i:min(i + batch_size, X_train_ddf.npartitions)].compute()\n",
    "    y_batch = y_train_ddf.partitions[i:min(i + batch_size, y_train_ddf.npartitions)].compute()\n",
    "    # 合併到結果\n",
    "    X_train = pd.concat([X_train, X_batch], axis=0, ignore_index=True)\n",
    "    y_train = pd.concat([y_train, y_batch], axis=0, ignore_index=True)\n",
    "    del X_batch, y_batch\n",
    "    gc.collect()"
   ]
  },
  {
   "cell_type": "code",
   "execution_count": 203,
   "metadata": {},
   "outputs": [
    {
     "name": "stdout",
     "output_type": "stream",
     "text": [
      "轉換測試集格式為熊貓DF...\n",
      "處理批次 1\n",
      "處理批次 2\n",
      "處理批次 3\n",
      "處理批次 4\n",
      "處理批次 5\n",
      "處理批次 6\n",
      "處理批次 7\n",
      "處理批次 8\n",
      "處理批次 9\n",
      "處理批次 10\n"
     ]
    }
   ],
   "source": [
    "# 讀取 CSV\n",
    "print(\"轉換測試集格式為熊貓DF...\")\n",
    "X_test_ddf = dd.read_csv('./X_test_ddf.csv/*', sample=1048576, blocksize='128MB')\n",
    "y_test_ddf = dd.read_csv('./y_test_ddf.csv/*', sample=1048576, blocksize='128MB')\n",
    "\n",
    "# 初始化空的 DataFrame\n",
    "X_test = pd.DataFrame()\n",
    "y_test = pd.DataFrame()\n",
    "\n",
    "# 分批合併\n",
    "batch_size = 10  # 每次處理 10 個分割\n",
    "for i in range(0, X_test_ddf.npartitions, batch_size):\n",
    "    print(f\"處理批次 {i//batch_size + 1}\")\n",
    "    # 一次計算多個分割\n",
    "    X_batch = X_test_ddf.partitions[i:min(i + batch_size, X_test_ddf.npartitions)].compute()\n",
    "    y_batch = y_test_ddf.partitions[i:min(i + batch_size, y_test_ddf.npartitions)].compute()\n",
    "    # 合併到結果\n",
    "    X_test = pd.concat([X_test, X_batch], axis=0, ignore_index=True)\n",
    "    y_test = pd.concat([y_test, y_batch], axis=0, ignore_index=True)\n",
    "    del X_batch, y_batch\n",
    "    gc.collect()"
   ]
  },
  {
   "cell_type": "code",
   "execution_count": 396,
   "metadata": {
    "_cell_guid": "545a91b0-e73c-4d74-a0a2-5562270a5f39",
    "_uuid": "e6e24f3d-5137-4913-bc55-21947e050f4d",
    "collapsed": false,
    "jupyter": {
     "outputs_hidden": false
    },
    "trusted": true
   },
   "outputs": [
    {
     "name": "stderr",
     "output_type": "stream",
     "text": [
      "c:\\Users\\faiz1\\AppData\\Local\\Programs\\Python\\Python311\\Lib\\site-packages\\sklearn\\preprocessing\\_label.py:93: DataConversionWarning: A column-vector y was passed when a 1d array was expected. Please change the shape of y to (n_samples, ), for example using ravel().\n",
      "  y = column_or_1d(y, warn=True)\n",
      "c:\\Users\\faiz1\\AppData\\Local\\Programs\\Python\\Python311\\Lib\\site-packages\\sklearn\\preprocessing\\_label.py:129: DataConversionWarning: A column-vector y was passed when a 1d array was expected. Please change the shape of y to (n_samples, ), for example using ravel().\n",
      "  y = column_or_1d(y, dtype=self.classes_.dtype, warn=True)\n",
      "c:\\Users\\faiz1\\AppData\\Local\\Programs\\Python\\Python311\\Lib\\site-packages\\sklearn\\preprocessing\\_label.py:129: DataConversionWarning: A column-vector y was passed when a 1d array was expected. Please change the shape of y to (n_samples, ), for example using ravel().\n",
      "  y = column_or_1d(y, dtype=self.classes_.dtype, warn=True)\n"
     ]
    },
    {
     "name": "stdout",
     "output_type": "stream",
     "text": [
      "Training until validation scores don't improve for 50 rounds\n",
      "Early stopping, best iteration is:\n",
      "[328]\ttrain's binary_logloss: 0.00793424\ttrain's auc: 0.999999\ttest's binary_logloss: 0.0253353\ttest's auc: 0.981488\n",
      "模型已儲存至 './lgbm_stock_model_v13.pkl'\n",
      "特徵重要性已儲存\n"
     ]
    },
    {
     "data": {
      "image/png": "[encoded data removed]",
      "text/plain": [
       "<Figure size 1000x600 with 1 Axes>"
      ]
     },
     "metadata": {},
     "output_type": "display_data"
    },
    {
     "name": "stdout",
     "output_type": "stream",
     "text": [
      "Logloss 曲線已繪製並儲存為 'logloss_curve_v13.png'\n"
     ]
    }
   ],
   "source": [
    "# # 定義 LightGBM 模型（固定不搜索的參數）\n",
    "# from sklearn.model_selection import StratifiedKFold\n",
    "\n",
    "# #TODO yoyo區 精煉特徵\n",
    "# feature_importance_df = pd.read_csv('feature_importance.csv')\n",
    "# important_features = feature_importance_df[feature_importance_df['Importance'] >= 18]['Feature'].tolist()\n",
    "# print(f\"保留的特徵數量: {len(important_features)}\")\n",
    "# print(\"保留的特徵:\", important_features)\n",
    "\n",
    "# # 過濾訓練和測試數據，僅保留重要性大於 0 的特徵\n",
    "# X_train = X_train[important_features]\n",
    "# X_test = X_test[important_features]\n",
    "\n",
    "# # 計算特徵相關性\n",
    "# correlation_matrix = X_train.corr(method='pearson')\n",
    "\n",
    "# # 找出高度相關特徵對（相關性絕對值 > 0.8）\n",
    "# high_corr = np.where(np.abs(correlation_matrix) > 0.8)\n",
    "# high_corr_pairs = [(correlation_matrix.index[x], correlation_matrix.columns[y]) \n",
    "#                    for x, y in zip(*high_corr) if x != y and x < y]\n",
    "# print(\"高度相關特徵對:\", high_corr_pairs)\n",
    "\n",
    "# # 根據特徵重要性移除高度相關特徵\n",
    "# if high_corr_pairs:\n",
    "#     # 從 feature_importance_df 獲取特徵重要性\n",
    "#     feature_importance_dict = dict(zip(feature_importance_df['Feature'], feature_importance_df['Importance']))\n",
    "    \n",
    "#     # 決定要移除的特徵（保留重要性較高的特徵）\n",
    "#     features_to_remove = []\n",
    "#     for feat1, feat2 in high_corr_pairs:\n",
    "#         # 比較兩個特徵的重要性\n",
    "#         imp1 = feature_importance_dict.get(feat1, 0)\n",
    "#         imp2 = feature_importance_dict.get(feat2, 0)\n",
    "#         # 移除重要性較低的那個特徵\n",
    "#         if imp1 > imp2:\n",
    "#             features_to_remove.append(feat2)\n",
    "#         else:\n",
    "#             features_to_remove.append(feat1)\n",
    "    \n",
    "#     # 移除重複的移除特徵\n",
    "#     features_to_remove = list(set(features_to_remove))\n",
    "#     print(\"將移除的特徵:\", features_to_remove)\n",
    "    \n",
    "#     # 更新 important_features\n",
    "#     important_features = [f for f in important_features if f not in features_to_remove]\n",
    "#     print(f\"移除高度相關特徵後保留的特徵數量: {len(important_features)}\")\n",
    "#     print(\"最終保留的特徵:\", important_features)\n",
    "    \n",
    "#     # 更新 X_train 和 X_test\n",
    "#     X_train = X_train[important_features]\n",
    "#     X_test = X_test[important_features]\n",
    "# else:\n",
    "#     print(\"沒有找到高度相關特徵對，保留所有特徵\")\n",
    "\n",
    "# # 精煉特徵\n",
    "# feature_importance_df = pd.read_csv('feature_importance.csv')\n",
    "# important_features = feature_importance_df[feature_importance_df['Importance'] > 20]['Feature'].tolist() # 0.7101\n",
    "# print(f\"保留的特徵數量: {len(important_features)}\")\n",
    "# print(\"保留的特徵:\", important_features)\n",
    "\n",
    "# # 過濾訓練和測試數據，僅保留重要性大於 0 的特徵\n",
    "# X_train = X_train[important_features]\n",
    "# X_test = X_test[important_features]\n",
    "\n",
    "# model = lgb.LGBMClassifier(\n",
    "#     scale_pos_weight=scale_pos_weight,\n",
    "#     learning_rate=0.1,\n",
    "#     max_depth=8,\n",
    "#     min_child_samples=155,\n",
    "#     n_estimators=1000,\n",
    "#     lambda_l1=0.7,\n",
    "#     lambda_l2=0.3,\n",
    "#     feature_fraction=1,\n",
    "#     bagging_fraction=1,\n",
    "#     bagging_freq=1,\n",
    "#     random_state=42,\n",
    "#     verbose=-1,\n",
    "#     colsample_bytree=0.9,\n",
    "#     subsample=0.86,\n",
    "#     n_jobs=-1\n",
    "# )\n",
    "\n",
    "# # 定義參數搜索空間（調整後）\n",
    "# search_spaces = {\n",
    "#     # 'learning_rate': Real(0.01, 0.3),      # 擴大範圍，允許更高學習率\n",
    "#     # 'max_depth': Integer(3, 8),            # 縮小範圍，控制過擬合\n",
    "#     # 'min_child_samples': Integer(60, 180), # 調整範圍，減少過擬合\n",
    "#     # 'n_estimators': Integer(150, 250),     # 縮小範圍，根據 Logloss 曲線趨勢\n",
    "#     # 'lambda_l1': Real(0.1, 1.0),          # 增強正則化\n",
    "#     # 'lambda_l2': Real(0.1, 1.0),          # 增強正則化\n",
    "#     'num_leaves': Integer(20, 70),         # 控制葉子數，與 max_depth 配合\n",
    "#     # 'feature_fraction': Real(0.5, 1.0),    # 特徵抽樣，減少過擬合\n",
    "#     # 'bagging_fraction': Real(0.5, 1.0),    # 數據抽樣，減少過擬合\n",
    "#     # 'bagging_freq': Integer(1, 5)          # bagging 頻率\n",
    "# }\n",
    "\n",
    "# # 定義評估指標（正類 F1 分數）\n",
    "# f1_scorer = make_scorer(f1_score, average='binary')\n",
    "\n",
    "# # 初始化 BayesSearchCV（使用 StratifiedKFold 確保正負類比例一致）\n",
    "# bayes_search = BayesSearchCV(\n",
    "#     estimator=model,\n",
    "#     search_spaces=search_spaces,\n",
    "#     scoring=f1_scorer,\n",
    "#     n_iter=40,\n",
    "#     cv=StratifiedKFold(n_splits=5, shuffle=True, random_state=42), # 只能用測試集交叉驗證 有其侷限性\n",
    "#     random_state=42,\n",
    "#     n_jobs=-1,\n",
    "#     verbose=1,\n",
    "#     return_train_score=True\n",
    "# )\n",
    "\n",
    "# # 執行超參數搜索\n",
    "# bayes_search.fit(X_train, y_train)\n",
    "\n",
    "# # 獲取最佳參數\n",
    "# print(\"最佳參數:\", bayes_search.best_params_)\n",
    "# print(\"最佳 F1 分數（交叉驗證）:\", bayes_search.best_score_)\n",
    "# print(\"最佳參數的訓練集 F1 分數:\", bayes_search.cv_results_['mean_train_score'][bayes_search.best_index_])\n",
    "\n",
    "# 用最佳參數創建新模型（加入提前停止）\n",
    "# https://blog.csdn.net/starmoth/article/details/84586709\n",
    "# # 20特徵 0.7099模型\n",
    "# final_model = lgb.LGBMClassifier(\n",
    "#     scale_pos_weight=scale_pos_weight,\n",
    "#     learning_rate=0.1, # 特徵越少lr要越大\n",
    "#     max_depth=8,\n",
    "#     min_child_samples=130,\n",
    "#     n_estimators=1000,\n",
    "#     lambda_l1=0.5,\n",
    "#     lambda_l2=0.5,\n",
    "#     num_leaves=31,\n",
    "#     feature_fraction=1,\n",
    "#     bagging_fraction=0.95, # 0.6914\n",
    "#     bagging_freq=2,\n",
    "#     random_state=42,\n",
    "#     verbose=-1,\n",
    "#     colsample_bytree=0.9, # 有改沒改差不多\n",
    "#     subsample=0.86, # 有改沒改差不多\n",
    "#     n_jobs=-1,\n",
    "    \n",
    "# )\n",
    "# # 20特徵 0.7099模型\n",
    "# final_model = lgb.LGBMClassifier(\n",
    "#     scale_pos_weight=scale_pos_weight,\n",
    "#     learning_rate=0.1, # 特徵越少lr要越大\n",
    "#     max_depth=8,\n",
    "#     min_child_samples=130,\n",
    "#     n_estimators=1000,\n",
    "#     lambda_l1=0.5,\n",
    "#     lambda_l2=0.5,\n",
    "#     num_leaves=31,\n",
    "#     feature_fraction=1,\n",
    "#     bagging_fraction=0.95, # 0.6914\n",
    "#     bagging_freq=2,\n",
    "#     random_state=42,\n",
    "#     verbose=-1,\n",
    "#     colsample_bytree=0.9, # 有改沒改差不多\n",
    "#     subsample=0.86, # 有改沒改差不多\n",
    "#     n_jobs=-1,\n",
    "    \n",
    "# )\n",
    "# https://blog.csdn.net/u012735708/article/details/83749703 2018的文章 param不太一樣了\n",
    "# https://www.cnblogs.com/TimVerion/p/11436001.html\n",
    "# https://blog.csdn.net/lizz2276/article/details/121184297\n",
    "\n",
    "#TODO yoyo模型\n",
    "final_model = lgb.LGBMClassifier(\n",
    "    scale_pos_weight=scale_pos_weight,\n",
    "    # is_unbalance=True,\n",
    "    learning_rate=0.1,\n",
    "    max_depth=20,\n",
    "    min_child_samples=300, # 這搭配深度9來到了0.7\n",
    "    # min_child_samples=bayes_search.best_params_['min_child_samples'],\n",
    "    n_estimators=550, # 多多學總是好事^ ^\n",
    "    lambda_l1=0.7,\n",
    "    lambda_l2=0.3, # 這個組合F1可以到0.7哩\n",
    "    # num_leaves=bayes_search.best_params_['num_leaves'],\n",
    "    feature_fraction=1,\n",
    "    bagging_fraction=1,\n",
    "    bagging_freq=1,\n",
    "    random_state=42,\n",
    "    verbose=-1,\n",
    "    colsample_bytree=0.9,\n",
    "    subsample=0.86,\n",
    "    n_jobs=-1\n",
    ")\n",
    "\n",
    "# 訓練新模型（啟用提前停止，記錄 Logloss 曲線）\n",
    "final_model.fit(\n",
    "    X_train,\n",
    "    y_train,\n",
    "    eval_set=[(X_train, y_train), (X_test, y_test)],\n",
    "    eval_metric=['binary_logloss', 'auc'],\n",
    "    eval_names=['train', 'test'],\n",
    "    callbacks=[lgb.early_stopping(stopping_rounds=50, verbose=True)]  # 提前停止：50 輪內無提升則停止\n",
    ")\n",
    "\n",
    "# 儲存最終模型\n",
    "joblib.dump(final_model, './lgbm_stock_model_v13.pkl')\n",
    "print(\"模型已儲存至 './lgbm_stock_model_v13.pkl'\")\n",
    "\n",
    "# 特徵重要性\n",
    "feature_names = X_train.columns.tolist()\n",
    "importance = final_model.feature_importances_\n",
    "feature_df = pd.DataFrame({'Feature': feature_names, 'Importance': importance})\n",
    "feature_df = feature_df.sort_values(by='Importance', ascending=False)\n",
    "new_feature_importance_file = 'feature_importance.csv' if INIT_MODEL else 'feature_importance_final_model_report.csv'\n",
    "feature_df.to_csv(new_feature_importance_file, index=False)\n",
    "print(\"特徵重要性已儲存\")\n",
    "\n",
    "# 繪製 Logloss 曲線\n",
    "plt.figure(figsize=(10, 6))\n",
    "plt.plot(final_model.evals_result_['train']['binary_logloss'], label='Train Logloss', color='blue')\n",
    "plt.plot(final_model.evals_result_['test']['binary_logloss'], label='Test Logloss', color='orange')\n",
    "plt.xlabel('Boosting Rounds')\n",
    "plt.ylabel('Logloss')\n",
    "plt.title('Training and Test Logloss Curve (BayesSearchCV)')\n",
    "plt.legend()\n",
    "plt.grid(True)\n",
    "plt.savefig('logloss_curve_v13.png')\n",
    "plt.show()\n",
    "print(\"Logloss 曲線已繪製並儲存為 'logloss_curve_v13.png'\")\n",
    "\n",
    "# 清理記憶體 為了方便重新執行，暫時註解\n",
    "# del X_train, y_train\n",
    "# gc.collect()"
   ]
  },
  {
   "cell_type": "code",
   "execution_count": 397,
   "metadata": {},
   "outputs": [
    {
     "name": "stdout",
     "output_type": "stream",
     "text": [
      "開始預測...\n",
      "最佳閾值: 0.8102\n",
      "最佳 F1 分數: 0.6618\n",
      "\n",
      "最佳分類報告:\n",
      "              precision    recall  f1-score   support\n",
      "\n",
      "           0       1.00      1.00      1.00     19876\n",
      "           1       0.72      0.61      0.66       147\n",
      "\n",
      "    accuracy                           1.00     20023\n",
      "   macro avg       0.86      0.81      0.83     20023\n",
      "weighted avg       1.00      1.00      1.00     20023\n",
      "\n",
      "最佳閾值下混淆矩陣:\n",
      " [[19841    35]\n",
      " [   57    90]]\n",
      "最佳閾值已儲存至 './best_threshold.txt'\n"
     ]
    },
    {
     "data": {
      "image/png": "[encoded data removed]",
      "text/plain": [
       "<Figure size 800x600 with 1 Axes>"
      ]
     },
     "metadata": {},
     "output_type": "display_data"
    },
    {
     "name": "stdout",
     "output_type": "stream",
     "text": [
      "ROC 曲線已繪製並儲存為 roc_curve_v13.png\n"
     ]
    }
   ],
   "source": [
    "# 預測機率\n",
    "from sklearn.metrics import auc, confusion_matrix, precision_recall_curve, roc_curve\n",
    "\n",
    "\n",
    "print(\"開始預測...\")\n",
    "model = joblib.load('./lgbm_stock_model_v13.pkl')\n",
    "y_pred_proba = model.predict_proba(X_test)[:, 1]  # 正類機率 (二分類)\n",
    "\n",
    "# 閾值優化\n",
    "precisions, recalls, thresholds = precision_recall_curve(y_test, y_pred_proba)\n",
    "f1_scores = 2 * (precisions * recalls) / (precisions + recalls + 1e-10)  # 計算F1分數\n",
    "optimal_idx = np.argmax(f1_scores)  # 找到最佳F1分數的索引\n",
    "optimal_threshold = thresholds[optimal_idx]  # 對應的最佳閾值\n",
    "y_pred_optimal = (y_pred_proba >= optimal_threshold).astype(int)  # 使用最佳閾值預測\n",
    "\n",
    "# 顯示結果\n",
    "best_f1 = f1_score(y_test, y_pred_optimal)\n",
    "print(f\"最佳閾值: {optimal_threshold:.4f}\")\n",
    "print(f\"最佳 F1 分數: {best_f1:.4f}\")\n",
    "print(\"\\n最佳分類報告:\")\n",
    "print(classification_report(y_test, y_pred_optimal))\n",
    "print(\"最佳閾值下混淆矩陣:\\n\", confusion_matrix(y_test, y_pred_optimal))\n",
    "\n",
    "# 儲存最佳閾值\n",
    "with open('./best_threshold.txt', 'w') as f:\n",
    "    f.write(str(optimal_threshold))\n",
    "print(f\"最佳閾值已儲存至 './best_threshold.txt'\")\n",
    "\n",
    "# 繪製 ROC 曲線（作為最終評估）\n",
    "fpr, tpr, _ = roc_curve(y_test, y_pred_proba)\n",
    "roc_auc = auc(fpr, tpr)\n",
    "plt.figure(figsize=(8, 6))\n",
    "plt.plot(fpr, tpr, label=f'ROC Curve (AUC = {roc_auc:.2f})', color='blue')\n",
    "plt.plot([0, 1], [0, 1], 'r--', label='Random Guess')\n",
    "plt.xlabel('False Positive Rate')\n",
    "plt.ylabel('True Positive Rate')\n",
    "plt.title('Receiver Operating Characteristic (ROC) Curve')\n",
    "plt.legend()\n",
    "plt.grid(True)\n",
    "plt.savefig('roc_curve_v13.png')\n",
    "plt.show()\n",
    "print(\"ROC 曲線已繪製並儲存為 roc_curve_v13.png\")\n",
    "\n",
    "# 清理記憶體 為了方便重新執行，暫時註解\n",
    "# del X_test, y_test, y_pred_proba, thresholds, best_y_pred\n",
    "# gc.collect()"
   ]
  },
  {
   "cell_type": "code",
   "execution_count": 398,
   "metadata": {
    "_cell_guid": "e7c2963c-3a43-40ed-9e1a-049a5a027db2",
    "_uuid": "dce1f980-ca18-4d6a-aaa5-45733a8f4175",
    "collapsed": false,
    "jupyter": {
     "outputs_hidden": false
    },
    "trusted": true
   },
   "outputs": [],
   "source": [
    "# # 載入模型\n",
    "# model = joblib.load('./lgbm_stock_model_v13.pkl')\n",
    "# print(\"模型已載入\")\n",
    "\n",
    "# # 載入驗證集\n",
    "# val_ddf = dd.read_csv(val_file, sample=1048576, blocksize='64MB')\n",
    "\n",
    "# # 獲取模型實際使用的特徵名稱\n",
    "# model_features = model.booster_.feature_name()  # LGBMClassifier 的特徵名稱從 booster_ 獲取\n",
    "\n",
    "# # 只保留模型內有的特徵，並移除 'ID'\n",
    "# available_features = [col for col in model_features if col in val_ddf.columns]\n",
    "# X_val_ddf = val_ddf[available_features].repartition(npartitions=5)  # 減少分區數\n",
    "\n",
    "# # 數據清洗並轉為 Pandas DataFrame\n",
    "# print(\"清洗驗證集數據並轉換格式...\")\n",
    "# X_val = X_val_ddf.fillna(X_val_ddf.mean()).replace([np.inf, -np.inf], np.nan).fillna(X_val_ddf.max().max()).compute()\n",
    "# print(\"X_val 形狀:\", X_val.shape)\n",
    "\n",
    "# # 載入最佳閾值\n",
    "# with open('./best_threshold.txt', 'r') as f:\n",
    "#     best_threshold = float(f.read())\n",
    "# print(f\"使用的最佳閾值: {best_threshold}\")\n",
    "\n",
    "# # 預測\n",
    "# print(\"開始預測驗證集...\")\n",
    "# y_pred_proba_val = model.predict_proba(X_val)[:, 1]  # 正類機率\n",
    "# y_pred_val = (y_pred_proba_val >= best_threshold).astype(int)\n",
    "\n",
    "# # 獲取 ID 並生成提交文件\n",
    "# val_id = val_ddf['ID'].compute()\n",
    "# submission_df = pd.DataFrame({'ID': val_id, '飆股': y_pred_val})\n",
    "# submission_df.to_csv('./submission.csv', index=False)\n",
    "# print(\"預測結果已儲存至 ./submission.csv\")\n",
    "\n",
    "# # 清理記憶體 為了方便重新執行，暫時註解\n",
    "# # del val_ddf, X_val_ddf, X_val, y_pred_proba_val, y_pred_val, val_id, submission_df, model\n",
    "# # gc.collect()"
   ]
  }
 ],
 "metadata": {
  "kaggle": {
   "accelerator": "none",
   "dataSources": [
    {
     "datasetId": 7012543,
     "sourceId": 11227404,
     "sourceType": "datasetVersion"
    }
   ],
   "dockerImageVersionId": 30918,
   "isGpuEnabled": false,
   "isInternetEnabled": true,
   "language": "python",
   "sourceType": "notebook"
  },
  "kernelspec": {
   "display_name": "Python 3",
   "language": "python",
   "name": "python3"
  },
  "language_info": {
   "codemirror_mode": {
    "name": "ipython",
    "version": 3
   },
   "file_extension": ".py",
   "mimetype": "text/x-python",
   "name": "python",
   "nbconvert_exporter": "python",
   "pygments_lexer": "ipython3",
   "version": "3.11.4"
  }
 },
 "nbformat": 4,
 "nbformat_minor": 4
}
